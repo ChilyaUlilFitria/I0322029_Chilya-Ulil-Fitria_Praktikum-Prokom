{
 "cells": [
  {
   "attachments": {},
   "cell_type": "markdown",
   "metadata": {},
   "source": [
    "1. Buatlah program untuk menampilkan total penjumlahan bilangan ganjil dan total penjumlahan bilangan genap dengan input dari user berupa range (batas atas dan batas bawah)!"
   ]
  },
  {
   "cell_type": "code",
   "execution_count": 4,
   "metadata": {},
   "outputs": [
    {
     "name": "stdout",
     "output_type": "stream",
     "text": [
      "Jumlah bilangan ganjil anda =  2499\n",
      "Jumlah bilangan genap anda =  2550\n"
     ]
    }
   ],
   "source": [
    "# Kerjakan nomor 1 di sini\n",
    "Atas = int(input(\"Masukkan batas atas : \"))\n",
    "Bawah = int(input(\"Masukkan batas bawah : \"))\n",
    "\n",
    "jumlahganjil = 0\n",
    "jumlahgenap = 0\n",
    "\n",
    "for i in range(Atas, Bawah + 1) :\n",
    "    if i % 2 == 0 :\n",
    "        jumlahgenap += i\n",
    "    else :\n",
    "        jumlahganjil += i\n",
    "print(\"Jumlah bilangan ganjil anda = \",jumlahganjil)\n",
    "print(\"Jumlah bilangan genap anda = \",jumlahgenap)\n"
   ]
  },
  {
   "attachments": {},
   "cell_type": "markdown",
   "metadata": {},
   "source": [
    "2. Buatlah sebuah list yang berisi daftar makanan khas daerah (minimal 10 makanan termasuk makanan khas Solo). Kemudian buat program pencarian menggunakan pengulangan. Apabila nama makanan yang user inputkan sudah sesuai dengan isi list maka program akan berhenti dan menampilkan output \"(makanan yang diinput user) adalah makanan khas daerah\"."
   ]
  },
  {
   "cell_type": "code",
   "execution_count": 21,
   "metadata": {},
   "outputs": [
    {
     "name": "stdout",
     "output_type": "stream",
     "text": [
      "gudeg\n",
      "lunpia\n",
      "serabi\n",
      "pempek\n",
      "ketoprak\n",
      "rendang\n",
      "timlo adalah makanan khas daerah\n"
     ]
    }
   ],
   "source": [
    "# Kerjakan nomor 2 di sini\n",
    "Makanan_Daerah = [\"gudeg\", \"lunpia\", \"serabi\", \"pempek\", \"ketoprak\", \"rendang\", \"timlo\", \"selat\", \"papeda\", \"soto banjar\", \"soto betawi\", \"sate\", \"sambal matah\", \"ayam taliwang\"]\n",
    "Makanan = input(\"masukkan nama makanan daerah yang kamu ketahui: \")\n",
    "\n",
    "for i in Makanan_Daerah :\n",
    "    if i == Makanan :\n",
    "        break\n",
    "    print(i)\n",
    "if i == Makanan :\n",
    "    print(Makanan, \"adalah makanan khas daerah\")\n",
    "else :\n",
    "    print(Makanan, \"bukan makanan khas daerah\")"
   ]
  },
  {
   "attachments": {},
   "cell_type": "markdown",
   "metadata": {},
   "source": [
    "3. Buatlah program untuk menghitung rata-rata 7 bilangan dimana bilangan-bilangan tersebut didapat melalui input user!"
   ]
  },
  {
   "cell_type": "code",
   "execution_count": 24,
   "metadata": {},
   "outputs": [
    {
     "name": "stdout",
     "output_type": "stream",
     "text": [
      "1.7142857142857142\n"
     ]
    }
   ],
   "source": [
    "# Kerjakan nomor 3 di sini\n",
    "\n",
    "list_bilangan = []\n",
    "for i in range (7):\n",
    "    bilangan = float(input(\"Masukkan angka\"))\n",
    "    list_bilangan.append(bilangan)\n",
    "    ratarata = sum(list_bilangan)/len(list_bilangan)\n",
    "print(list_bilangan)\n",
    "print(\"Maka rata-ratanya adalah\")\n",
    "print(ratarata)"
   ]
  }
 ],
 "metadata": {
  "kernelspec": {
   "display_name": "Python 3",
   "language": "python",
   "name": "python3"
  },
  "language_info": {
   "codemirror_mode": {
    "name": "ipython",
    "version": 3
   },
   "file_extension": ".py",
   "mimetype": "text/x-python",
   "name": "python",
   "nbconvert_exporter": "python",
   "pygments_lexer": "ipython3",
   "version": "3.10.8"
  },
  "orig_nbformat": 4
 },
 "nbformat": 4,
 "nbformat_minor": 2
}
