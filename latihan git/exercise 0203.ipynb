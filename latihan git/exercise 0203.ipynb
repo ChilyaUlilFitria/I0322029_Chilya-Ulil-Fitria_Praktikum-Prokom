{
 "cells": [
  {
   "cell_type": "code",
   "execution_count": 1,
   "metadata": {},
   "outputs": [
    {
     "name": "stdout",
     "output_type": "stream",
     "text": [
      "Chilya Ulil Fitria\n",
      "I0322029\n",
      "A\n"
     ]
    }
   ],
   "source": [
    "print(input(\"Nama: \"))\n",
    "print(input(\"NIM: \"))\n",
    "print(input(\"Kelas: \"))"
   ]
  },
  {
   "attachments": {},
   "cell_type": "markdown",
   "metadata": {},
   "source": [
    "## 1."
   ]
  },
  {
   "attachments": {},
   "cell_type": "markdown",
   "metadata": {},
   "source": [
    "buatlah program sederhana untuk menghitung umur pengguna dengan ketentuan sebagai berikut :\n",
    "* Program meminta pengguna memasukan tanggal, bulan, dan tahun lahir\n",
    "* Program menghitung umur pengguna hingga tanggal 1 januari 2023\n",
    "* Program menampilkan umur dari pengguna"
   ]
  },
  {
   "cell_type": "code",
   "execution_count": 4,
   "metadata": {},
   "outputs": [
    {
     "name": "stdout",
     "output_type": "stream",
     "text": [
      "umur anda pada 1 januari 2023 adalah 57 tahun 3 bulan 15 hari\n"
     ]
    }
   ],
   "source": [
    "TanggalLahir = int(input(\"Masukkan tanggal lahir anda\"))\n",
    "BulanLahir = int(input(\"Masukkan bulan lahir anda\"))\n",
    "TahunLahir = int(input(\"Masukkan tahun lahir anda\"))\n",
    "\n",
    "if TanggalLahir == 1:\n",
    "    UmurTahun = 2023 - TahunLahir\n",
    "else:\n",
    "    UmurTahun = 2023 - TahunLahir - 1\n",
    "\n",
    "if TanggalLahir == 1:\n",
    "    if BulanLahir == 1:\n",
    "        UmurBulan = BulanLahir - 1\n",
    "else :\n",
    "    UmurBulan = 12 - BulanLahir\n",
    "\n",
    "if TanggalLahir == 1:\n",
    "    UmurTanggal = TanggalLahir - 1\n",
    "else :\n",
    "    UmurTanggal = 30 - TanggalLahir + 1\n",
    "\n",
    "\n",
    "\n",
    "print(\"umur anda pada 1 januari 2023 adalah\", UmurTahun, \"tahun\", UmurBulan, \"bulan\", UmurTanggal,\"hari\")"
   ]
  },
  {
   "attachments": {},
   "cell_type": "markdown",
   "metadata": {},
   "source": [
    "## 2."
   ]
  },
  {
   "attachments": {},
   "cell_type": "markdown",
   "metadata": {},
   "source": [
    "Pada 2015, wabah flu burung menyerang Indonesia dan beberapa peternak ayam mengalami kerugian karena banyaknya ayam yang mati. Setiap bulan, jumlah ayamnya berkurang menjadi setengah. Setelah dua bulan, jumlah ayam yang tersisa adalah 200 ekor. Hitunglah jumlah ayam sebelumnya yang dimiliki peternak tersebut! (gunakan rumus deret geometri)\n",
    "\n",
    "> *note: SOAL DIATAS DIKERJAKAN SESUAI DENGAN RUMUS BAKU*"
   ]
  },
  {
   "cell_type": "code",
   "execution_count": 27,
   "metadata": {},
   "outputs": [
    {
     "name": "stdout",
     "output_type": "stream",
     "text": [
      "Jumlah ayam tersisa saat ini adalah  200\n",
      "Jumlah ayam sebelumnya adalah  800.0\n"
     ]
    }
   ],
   "source": [
    "AyamTersisa = 200\n",
    "# rumus deret geometri\n",
    "# Un = a * r **(n-1)\n",
    "# a = Un/(r**(n-1))\n",
    "n = 3\n",
    "Un = 200\n",
    "r = 1/2\n",
    "a = Un/(r**(n-1))\n",
    "\n",
    "print(\"Jumlah ayam tersisa saat ini adalah \", AyamTersisa)\n",
    "print(\"Jumlah ayam sebelumnya adalah \", a)"
   ]
  },
  {
   "attachments": {},
   "cell_type": "markdown",
   "metadata": {},
   "source": [
    "## 3. "
   ]
  },
  {
   "attachments": {},
   "cell_type": "markdown",
   "metadata": {},
   "source": [
    "* **A** Hitunglah luas Prisma Segitiga dengan ketentuan sebagai berikut:\n",
    "    * Alas dan tutup prisma merupakan segitiga\n",
    "    * Terdapat 3 persegi panjang yang menyinggung alas dan tutup prisma\n",
    "    * Sisi persegi panjang yang menyinggung segitiga adalah sisi lebar\n",
    "```python\n",
    "    dictionary_figure = {\"Persegi\":{\"Sisi\":22},\n",
    "                        \"Persegi Panjang\":{\"Panjang\":10,\"Lebar\":5},\n",
    "                        \"Segitiga Sama Sisi\":{\"Sisi\":6,\"Tinggi\":3**(1/2) * 3},\n",
    "                        \"Lingkaran\":{\"Diameter\":7}}\n",
    "```\n",
    "* **B** Hitunglah luas Tabung dengan ketentuan sebagai berikut:\n",
    "    * Alas dan tutup tabung merupakan lingkaran\n",
    "    * Terdapat 1 persegi yang menyinggung alas dan tutup tabung\n",
    "    * Persegi yang ada mengelilingi lingkaran hingga sisi dari persegi saling bertemu\n",
    "\n",
    "> *note: Pada soal ini kalian hanya boleh menggunakan key-value pair dan index pada list. Tidak diperbolehkan menulis secara langsung dimensi dari figure*"
   ]
  },
  {
   "cell_type": "code",
   "execution_count": 33,
   "metadata": {},
   "outputs": [
    {
     "name": "stdout",
     "output_type": "stream",
     "text": [
      "Luas prmukaan prisma adalah 181.1769145362398\n",
      "Luas permukaan tabung adalah  560.0504000000001\n"
     ]
    }
   ],
   "source": [
    "dictionary_figure = {\"Persegi\":{\"Sisi\":22},\n",
    "                     \"Persegi Panjang\":{\"Panjang\":10,\"Lebar\":5},\n",
    "                     \"Segitiga Sama Sisi\":{\"Sisi\":6,\"Tinggi\":3**(1/2) * 3},\n",
    "                     \"Lingkaran\":{\"Diameter\":7}}\n",
    "\n",
    "#A\n",
    "panjang = dictionary_figure[\"Persegi Panjang\"][\"Panjang\"]\n",
    "lebar = dictionary_figure[\"Persegi Panjang\"][\"Lebar\"]\n",
    "sisi = dictionary_figure[\"Segitiga Sama Sisi\"][\"Sisi\"]\n",
    "tinggi = dictionary_figure[\"Segitiga Sama Sisi\"][\"Tinggi\"]\n",
    "\n",
    "LuasSegitiga = (1/2*sisi*tinggi)\n",
    "LuasPersegiPanjang = panjang*lebar\n",
    "\n",
    "LuasPermukaanPrisma = 2*LuasSegitiga + 3*LuasPersegiPanjang\n",
    "print(\"Luas prmukaan prisma adalah\", LuasPermukaanPrisma)\n",
    "\n",
    "\n",
    "#B\n",
    "diameter = dictionary_figure[\"Lingkaran\"][\"Diameter\"]\n",
    "\n",
    "phi = 3.14\n",
    "KelilingLingkaran = phi * diameter\n",
    "LuasPermukaanTabung = 2*phi*(((1/2)*diameter)**2)+ KelilingLingkaran*KelilingLingkaran\n",
    "\n",
    "print(\"Luas permukaan tabung adalah \", LuasPermukaanTabung)"
   ]
  }
 ],
 "metadata": {
  "kernelspec": {
   "display_name": "Python 3",
   "language": "python",
   "name": "python3"
  },
  "language_info": {
   "codemirror_mode": {
    "name": "ipython",
    "version": 3
   },
   "file_extension": ".py",
   "mimetype": "text/x-python",
   "name": "python",
   "nbconvert_exporter": "python",
   "pygments_lexer": "ipython3",
   "version": "3.10.8"
  },
  "orig_nbformat": 4,
  "vscode": {
   "interpreter": {
    "hash": "5addf786bcd861d1ce5006f23111f8cbb206731e5b61b0a5632ba9e0252558a8"
   }
  }
 },
 "nbformat": 4,
 "nbformat_minor": 2
}
