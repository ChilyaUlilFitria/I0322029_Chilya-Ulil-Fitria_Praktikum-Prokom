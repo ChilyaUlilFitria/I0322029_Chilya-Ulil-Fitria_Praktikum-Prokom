{
 "cells": [
  {
   "cell_type": "code",
   "execution_count": 3,
   "metadata": {},
   "outputs": [
    {
     "name": "stdout",
     "output_type": "stream",
     "text": [
      "4 4 5 \n",
      "5 5 5 \n",
      "6 7 2 \n"
     ]
    },
    {
     "data": {
      "text/plain": [
       "[[4, 4, 5], [5, 5, 5], [6, 7, 2]]"
      ]
     },
     "execution_count": 3,
     "metadata": {},
     "output_type": "execute_result"
    }
   ],
   "source": [
    "#Buatlah sebuah fungsi untuk membuat matrix berdasarkan input dari user\n",
    "\n",
    "def create_matrix(baris,kolom):\n",
    "    matrix = []\n",
    "    for i in range(baris):\n",
    "        matrix.append([])\n",
    "        for j in range(kolom):\n",
    "            elemen = int(input(f\"Masukkan elemen matriks[{i}][{j}]: \"))\n",
    "            matrix[i].append(elemen)\n",
    "    for i in range(baris):\n",
    "        for j in range(kolom):\n",
    "            print(matrix[i][j], end=\" \")\n",
    "        print()\n",
    "    return matrix\n",
    "\n",
    "baris = int(input('Masukkan Jumlah Baris:\\t'))\n",
    "kolom = int(input('Masukkan Jumlah Kolom:\\t'))\n",
    "\n",
    "create_matrix(baris,kolom)"
   ]
  },
  {
   "cell_type": "code",
   "execution_count": 1,
   "metadata": {},
   "outputs": [
    {
     "ename": "ValueError",
     "evalue": "invalid literal for int() with base 10: ''",
     "output_type": "error",
     "traceback": [
      "\u001b[1;31m---------------------------------------------------------------------------\u001b[0m",
      "\u001b[1;31mValueError\u001b[0m                                Traceback (most recent call last)",
      "Cell \u001b[1;32mIn[1], line 24\u001b[0m\n\u001b[0;32m     22\u001b[0m     matrixA\u001b[39m.\u001b[39mappend([])\n\u001b[0;32m     23\u001b[0m     \u001b[39mfor\u001b[39;00m b \u001b[39min\u001b[39;00m \u001b[39mrange\u001b[39m (kolom) :\n\u001b[1;32m---> 24\u001b[0m         nilai \u001b[39m=\u001b[39m \u001b[39mint\u001b[39;49m(\u001b[39minput\u001b[39;49m(\u001b[39mf\u001b[39;49m\u001b[39m'\u001b[39;49m\u001b[39mMasukkan matrix A [\u001b[39;49m\u001b[39m{\u001b[39;49;00ma\u001b[39m}\u001b[39;49;00m\u001b[39m][\u001b[39;49m\u001b[39m{\u001b[39;49;00mb\u001b[39m}\u001b[39;49;00m\u001b[39m] = \u001b[39;49m\u001b[39m'\u001b[39;49m))\n\u001b[0;32m     25\u001b[0m         matrixA[a]\u001b[39m.\u001b[39mappend(nilai)\n\u001b[0;32m     26\u001b[0m \u001b[39mprint\u001b[39m(\u001b[39m'\u001b[39m\u001b[39m\\n\u001b[39;00m\u001b[39mNilai matrix A : \u001b[39m\u001b[39m'\u001b[39m)\n",
      "\u001b[1;31mValueError\u001b[0m: invalid literal for int() with base 10: ''"
     ]
    }
   ],
   "source": [
    "#Buatlah sebuah fungsi untuk menambah dua matrix berdasarkan input user\n",
    "\n",
    "def tambah_matrix(matrix1,matrix2):\n",
    "    tambah = []\n",
    "    for i in range(len(matrix1)):\n",
    "        tambah.append([])\n",
    "        for j in range(len(matrix1[0])):\n",
    "            jumlah = matrix1[i][j] + matrix2 [i][j]\n",
    "            tambah[i].append(jumlah)\n",
    "    print('\\nHasil Penjumlahan')\n",
    "    for i in range(len(tambah)) :\n",
    "        for j in range(len(tambah[0])) :\n",
    "            print(tambah[i][j], end=' ')\n",
    "        print()\n",
    "    return tambah\n",
    "\n",
    "baris = int(input('Masukkan Jumlah Baris:\\t'))\n",
    "kolom = int(input('Masukkan Jumlah Kolom:\\t'))\n",
    "\n",
    "matrixA = []\n",
    "for a in range (baris):\n",
    "    matrixA.append([])\n",
    "    for b in range (kolom) :\n",
    "        nilai = int(input(f'Masukkan matrix A [{a}][{b}] = '))\n",
    "        matrixA[a].append(nilai)\n",
    "print('\\nNilai matrix A : ')\n",
    "for a in range(len(matrixA)) :\n",
    "    for b in range(len(matrixA[0])) :\n",
    "        print(matrixA[a][b], end=' ')\n",
    "    print()\n",
    "\n",
    "matrixB = []\n",
    "for a in range (baris):\n",
    "    matrixB.append([])\n",
    "    for b in range (kolom) :\n",
    "        nilai = int(input(f'Masukkan matrix B [{a}][{b}] = '))\n",
    "        matrixB[a].append(nilai)\n",
    "print('\\nNilai matrix A : ')\n",
    "for a in range(len(matrixB)) :\n",
    "    for b in range(len(matrixB[0])) :\n",
    "        print(matrixB[a][b], end=' ')\n",
    "    print()\n",
    "\n",
    "tambah_matrix(matrixA, matrixB)"
   ]
  },
  {
   "cell_type": "code",
   "execution_count": 7,
   "metadata": {},
   "outputs": [
    {
     "name": "stdout",
     "output_type": "stream",
     "text": [
      "\n",
      "Nilai matrix 1 : \n",
      "1 2 3 \n",
      "4 5 6 \n",
      "7 8 9 \n",
      "\n",
      "Nilai matrix 2 : \n",
      "0 1 2 \n",
      "3 4 5 \n",
      "6 7 8 \n",
      "\n",
      "Hasil Perkalian Matrix A dan Matrix B =  \n",
      "24 30 36 \n",
      "51 66 81 \n",
      "78 102 126 \n"
     ]
    },
    {
     "data": {
      "text/plain": [
       "[[24, 30, 36], [51, 66, 81], [78, 102, 126]]"
      ]
     },
     "execution_count": 7,
     "metadata": {},
     "output_type": "execute_result"
    }
   ],
   "source": [
    "#Buatlah fungsi untuk mengakalikan dua buah matrix berdasarkan input user\n",
    "\n",
    "def multiply_matrix(matrix1, matrix2):\n",
    "    result=[]\n",
    "    for a in range(0, len(matrix1)):\n",
    "        row = []\n",
    "        for b in range(0, len(matrix1[0])):\n",
    "            total = 0\n",
    "            for c in range(0, len(matrix1)):\n",
    "                total = total + (matrix1[a][c] * matrix2[c][b])\n",
    "            row.append(total)\n",
    "        result.append(row)\n",
    "    print('\\nHasil Perkalian Matrix A dan Matrix B =  ')\n",
    "    for a in range(0, len(result)):\n",
    "        for b in range(0, len(result[0])):\n",
    "            print (result[a][b], end=' ')\n",
    "        print ()\n",
    "    return result\n",
    "\n",
    "\n",
    "matrix1 = []\n",
    "for a in range (baris):\n",
    "    matrix1.append([])\n",
    "    for b in range (kolom) :\n",
    "        nilai = int(input(f'Masukkan matrix 1 [{a}][{b}] = '))\n",
    "        matrix1[a].append(nilai)\n",
    "print('\\nNilai matrix 1 : ')\n",
    "for a in range(len(matrix1)) :\n",
    "    for b in range(len(matrix1[0])) :\n",
    "        print(matrix1[a][b], end=' ')\n",
    "    print()\n",
    "matrix2 = []\n",
    "for a in range (baris):\n",
    "    matrix2.append([])\n",
    "    for b in range (kolom) :\n",
    "        nilai = int(input(f'Masukkan matrix 2 [{a}][{b}] = '))\n",
    "        matrix2[a].append(nilai)\n",
    "print('\\nNilai matrix 2 : ')\n",
    "for a in range(len(matrix2)) :\n",
    "    for b in range(len(matrix2[0])) :\n",
    "        print(matrix2[a][b], end=' ')\n",
    "    print()\n",
    "\n",
    "multiply_matrix(matrix1, matrix2)"
   ]
  }
 ],
 "metadata": {
  "kernelspec": {
   "display_name": "Python 3",
   "language": "python",
   "name": "python3"
  },
  "language_info": {
   "codemirror_mode": {
    "name": "ipython",
    "version": 3
   },
   "file_extension": ".py",
   "mimetype": "text/x-python",
   "name": "python",
   "nbconvert_exporter": "python",
   "pygments_lexer": "ipython3",
   "version": "3.10.8"
  },
  "orig_nbformat": 4
 },
 "nbformat": 4,
 "nbformat_minor": 2
}
